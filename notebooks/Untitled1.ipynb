{
 "cells": [
  {
   "cell_type": "code",
   "execution_count": 55,
   "metadata": {},
   "outputs": [],
   "source": [
    "import pandas as pd\n",
    "import matplotlib.pyplot as plt\n",
    "import os\n",
    "\n",
    "base_dir = \"C://Users//nitin//eclipse-workspace//consensus-deep-learning-version-2.0//data/mnist_balanced/results/\"\n",
    "\n",
    "paths = [os.path.join(base_dir, \"results_{}.csv\".format(i)) for i in range(1,2)]\n",
    "dfs = [pd.read_csv(p, header=0) for p in paths]\n",
    "# df2 = pd.read_csv(paths[1], header=0)\n",
    "# df3 = pd.read_csv(paths[2], header=0)"
   ]
  },
  {
   "cell_type": "code",
   "execution_count": 56,
   "metadata": {},
   "outputs": [
    {
     "data": {
      "image/png": "[encoded data removed]",
      "text/plain": [
       "<Figure size 432x288 with 1 Axes>"
      ]
     },
     "metadata": {
      "needs_background": "light"
     },
     "output_type": "display_data"
    }
   ],
   "source": [
    "fig, ax = plt.subplots()\n",
    "# df = df[df[\"Iter\"]%20==0]\n",
    "for i in range(len(dfs)):\n",
    "    num_nodes = len(set(dfs[i][\"node\"].values))\n",
    "    dfs[i][dfs[i][\"iter\"] < 8000].groupby([\"iter\"]).mean()[\"overall_train_auc\"].plot(ax=ax, label = \"test_auc_\" + str(num_nodes), legend=True)\n",
    "    dfs[i][dfs[i][\"iter\"] < 8000].groupby([\"iter\"]).mean()[\"overall_test_auc\"].plot(ax=ax, label = \"train_auc_\" + str(num_nodes), legend=True)\n",
    "# df2[df2[\"iter\"] < 7000].groupby([\"iter\"]).mean()[\"overall_test_accuracy\"].plot(ax=ax, label='num_nodes=4', legend=True)\n",
    "# df3[df3[\"iter\"] < 7000].groupby([\"iter\"]).mean()[\"overall_test_accuracy\"].plot(ax=ax, label='num_nodes=6', legend=True)"
   ]
  },
  {
   "cell_type": "code",
   "execution_count": 29,
   "metadata": {},
   "outputs": [
    {
     "data": {
      "application/vnd.jupyter.widget-view+json": {
       "model_id": "3e3d9da98b7f4e22bca1a19649f4d8c5",
       "version_major": 2,
       "version_minor": 0
      },
      "text/plain": [
       "HBox(children=(IntProgress(value=0, max=4), HTML(value='')))"
      ]
     },
     "metadata": {},
     "output_type": "display_data"
    },
    {
     "name": "stdout",
     "output_type": "stream",
     "text": [
      "\n"
     ]
    }
   ],
   "source": [
    "from tqdm import tqdm_notebook\n",
    "def rename_columns(path, opath):\n",
    "    df = pd.read_csv(path, header=None)\n",
    "    df.columns = [\"label\"] + list(range(1,len(df.columns)))\n",
    "    df.to_csv(opath, index=False)\n",
    "    \n",
    "    \n",
    "paths = [\"C://Users//nitin//eclipse-workspace//consensus-deep-learning-version-2.0//data//dexter/feature_split_2/dexter_test_binary.csv\",\n",
    "        \"C://Users//nitin//eclipse-workspace//consensus-deep-learning-version-2.0//data//dexter/feature_split_2/dexter_train_binary.csv\",\n",
    "        \"C://Users//nitin//eclipse-workspace//consensus-deep-learning-version-2.0//data//gisette/feature_split_2/gisette_test_binary.csv\",\n",
    "        \"C://Users//nitin//eclipse-workspace//consensus-deep-learning-version-2.0//data//gisette/feature_split_2/gisette_train_binary.csv\"]\n",
    "\n",
    "opaths = [\"C://Users//nitin//eclipse-workspace//consensus-deep-learning-version-2.0//data//dexter/dexter_test_binary.csv\",\n",
    "        \"C://Users//nitin//eclipse-workspace//consensus-deep-learning-version-2.0//data//dexter/dexter_train_binary.csv\",\n",
    "        \"C://Users//nitin//eclipse-workspace//consensus-deep-learning-version-2.0//data//gisette/gisette_test_binary.csv\",\n",
    "        \"C://Users//nitin//eclipse-workspace//consensus-deep-learning-version-2.0//data//gisette/gisette_train_binary.csv\"]\n",
    "\n",
    "for i in tqdm_notebook(range(len(paths))):\n",
    "    rename_columns(paths[i], opaths[i])"
   ]
  },
  {
   "cell_type": "code",
   "execution_count": 17,
   "metadata": {},
   "outputs": [],
   "source": [
    "import numpy as np"
   ]
  },
  {
   "cell_type": "code",
   "execution_count": 29,
   "metadata": {},
   "outputs": [],
   "source": [
    "mnist_data = pd.read_csv(\"C://Users//nitin//eclipse-workspace//consensus-deep-learning-version-2.0//data/mnist_balanced/mnist_balanced_train_binary.csv\")\n",
    "mnist_data = mnist_data.to_numpy()"
   ]
  },
  {
   "cell_type": "code",
   "execution_count": 31,
   "metadata": {},
   "outputs": [
    {
     "data": {
      "text/plain": [
       "(11702, 785)"
      ]
     },
     "execution_count": 31,
     "metadata": {},
     "output_type": "execute_result"
    }
   ],
   "source": [
    "mnist_data.shape\n"
   ]
  },
  {
   "cell_type": "code",
   "execution_count": 32,
   "metadata": {},
   "outputs": [
    {
     "data": {
      "text/plain": [
       "array([0., 0., 0., ..., 1., 1., 1.])"
      ]
     },
     "execution_count": 32,
     "metadata": {},
     "output_type": "execute_result"
    }
   ],
   "source": [
    "labels = mnist_data[:,0]\n",
    "labels"
   ]
  },
  {
   "cell_type": "code",
   "execution_count": 34,
   "metadata": {},
   "outputs": [
    {
     "data": {
      "text/plain": [
       "(11702, 784)"
      ]
     },
     "execution_count": 34,
     "metadata": {},
     "output_type": "execute_result"
    }
   ],
   "source": [
    "features = mnist_data[:,1:]\n",
    "features.shape"
   ]
  },
  {
   "cell_type": "code",
   "execution_count": 40,
   "metadata": {},
   "outputs": [
    {
     "data": {
      "text/plain": [
       "(28, 28)"
      ]
     },
     "execution_count": 40,
     "metadata": {},
     "output_type": "execute_result"
    }
   ],
   "source": [
    "ex = features[0,:]\n",
    "ex = ex.reshape((28,28))\n",
    "\n",
    "ex.shape"
   ]
  },
  {
   "cell_type": "code",
   "execution_count": 54,
   "metadata": {},
   "outputs": [
    {
     "name": "stdout",
     "output_type": "stream",
     "text": [
      "[0, 1, 2, 3, 4, 5, 6, 28, 29, 30, 31, 32, 33, 34, 56, 57, 58, 59, 60, 61, 62, 84, 85, 86, 87, 88, 89, 90, 112, 113, 114, 115, 116, 117, 118, 140, 141, 142, 143, 144, 145, 146, 168, 169, 170, 171, 172, 173, 174]\n",
      "0 0 (7, 7)\n",
      "[7, 8, 9, 10, 11, 12, 13, 35, 36, 37, 38, 39, 40, 41, 63, 64, 65, 66, 67, 68, 69, 91, 92, 93, 94, 95, 96, 97, 119, 120, 121, 122, 123, 124, 125, 147, 148, 149, 150, 151, 152, 153, 175, 176, 177, 178, 179, 180, 181]\n",
      "0 1 (7, 7)\n",
      "[14, 15, 16, 17, 18, 19, 20, 42, 43, 44, 45, 46, 47, 48, 70, 71, 72, 73, 74, 75, 76, 98, 99, 100, 101, 102, 103, 104, 126, 127, 128, 129, 130, 131, 132, 154, 155, 156, 157, 158, 159, 160, 182, 183, 184, 185, 186, 187, 188]\n",
      "0 2 (7, 7)\n",
      "[21, 22, 23, 24, 25, 26, 27, 49, 50, 51, 52, 53, 54, 55, 77, 78, 79, 80, 81, 82, 83, 105, 106, 107, 108, 109, 110, 111, 133, 134, 135, 136, 137, 138, 139, 161, 162, 163, 164, 165, 166, 167, 189, 190, 191, 192, 193, 194, 195]\n",
      "0 3 (7, 7)\n",
      "[196, 197, 198, 199, 200, 201, 202, 224, 225, 226, 227, 228, 229, 230, 252, 253, 254, 255, 256, 257, 258, 280, 281, 282, 283, 284, 285, 286, 308, 309, 310, 311, 312, 313, 314, 336, 337, 338, 339, 340, 341, 342, 364, 365, 366, 367, 368, 369, 370]\n",
      "1 0 (7, 7)\n",
      "[203, 204, 205, 206, 207, 208, 209, 231, 232, 233, 234, 235, 236, 237, 259, 260, 261, 262, 263, 264, 265, 287, 288, 289, 290, 291, 292, 293, 315, 316, 317, 318, 319, 320, 321, 343, 344, 345, 346, 347, 348, 349, 371, 372, 373, 374, 375, 376, 377]\n",
      "1 1 (7, 7)\n",
      "[210, 211, 212, 213, 214, 215, 216, 238, 239, 240, 241, 242, 243, 244, 266, 267, 268, 269, 270, 271, 272, 294, 295, 296, 297, 298, 299, 300, 322, 323, 324, 325, 326, 327, 328, 350, 351, 352, 353, 354, 355, 356, 378, 379, 380, 381, 382, 383, 384]\n",
      "1 2 (7, 7)\n",
      "[217, 218, 219, 220, 221, 222, 223, 245, 246, 247, 248, 249, 250, 251, 273, 274, 275, 276, 277, 278, 279, 301, 302, 303, 304, 305, 306, 307, 329, 330, 331, 332, 333, 334, 335, 357, 358, 359, 360, 361, 362, 363, 385, 386, 387, 388, 389, 390, 391]\n",
      "1 3 (7, 7)\n",
      "[392, 393, 394, 395, 396, 397, 398, 420, 421, 422, 423, 424, 425, 426, 448, 449, 450, 451, 452, 453, 454, 476, 477, 478, 479, 480, 481, 482, 504, 505, 506, 507, 508, 509, 510, 532, 533, 534, 535, 536, 537, 538, 560, 561, 562, 563, 564, 565, 566]\n",
      "2 0 (7, 7)\n",
      "[399, 400, 401, 402, 403, 404, 405, 427, 428, 429, 430, 431, 432, 433, 455, 456, 457, 458, 459, 460, 461, 483, 484, 485, 486, 487, 488, 489, 511, 512, 513, 514, 515, 516, 517, 539, 540, 541, 542, 543, 544, 545, 567, 568, 569, 570, 571, 572, 573]\n",
      "2 1 (7, 7)\n",
      "[406, 407, 408, 409, 410, 411, 412, 434, 435, 436, 437, 438, 439, 440, 462, 463, 464, 465, 466, 467, 468, 490, 491, 492, 493, 494, 495, 496, 518, 519, 520, 521, 522, 523, 524, 546, 547, 548, 549, 550, 551, 552, 574, 575, 576, 577, 578, 579, 580]\n",
      "2 2 (7, 7)\n",
      "[413, 414, 415, 416, 417, 418, 419, 441, 442, 443, 444, 445, 446, 447, 469, 470, 471, 472, 473, 474, 475, 497, 498, 499, 500, 501, 502, 503, 525, 526, 527, 528, 529, 530, 531, 553, 554, 555, 556, 557, 558, 559, 581, 582, 583, 584, 585, 586, 587]\n",
      "2 3 (7, 7)\n",
      "[588, 589, 590, 591, 592, 593, 594, 616, 617, 618, 619, 620, 621, 622, 644, 645, 646, 647, 648, 649, 650, 672, 673, 674, 675, 676, 677, 678, 700, 701, 702, 703, 704, 705, 706, 728, 729, 730, 731, 732, 733, 734, 756, 757, 758, 759, 760, 761, 762]\n",
      "3 0 (7, 7)\n",
      "[595, 596, 597, 598, 599, 600, 601, 623, 624, 625, 626, 627, 628, 629, 651, 652, 653, 654, 655, 656, 657, 679, 680, 681, 682, 683, 684, 685, 707, 708, 709, 710, 711, 712, 713, 735, 736, 737, 738, 739, 740, 741, 763, 764, 765, 766, 767, 768, 769]\n",
      "3 1 (7, 7)\n",
      "[602, 603, 604, 605, 606, 607, 608, 630, 631, 632, 633, 634, 635, 636, 658, 659, 660, 661, 662, 663, 664, 686, 687, 688, 689, 690, 691, 692, 714, 715, 716, 717, 718, 719, 720, 742, 743, 744, 745, 746, 747, 748, 770, 771, 772, 773, 774, 775, 776]\n",
      "3 2 (7, 7)\n",
      "[609, 610, 611, 612, 613, 614, 615, 637, 638, 639, 640, 641, 642, 643, 665, 666, 667, 668, 669, 670, 671, 693, 694, 695, 696, 697, 698, 699, 721, 722, 723, 724, 725, 726, 727, 749, 750, 751, 752, 753, 754, 755, 777, 778, 779, 780, 781, 782, 783]\n",
      "3 3 (7, 7)\n"
     ]
    }
   ],
   "source": [
    "feature_mats = []\n",
    "# create an index matrix to know which indices are being subset\n",
    "index_mat = np.arange(784)\n",
    "index_mat = index_mat.reshape((28, 28))\n",
    "for i in range(4):\n",
    "    for j in range(4):\n",
    "        f_mat = ex[i*7:(i+1)*7, j*7:(j+1)*7]\n",
    "        indices = index_mat[i*7:(i+1)*7, j*7:(j+1)*7]\n",
    "        print(indices.reshape((-1, 49)).squeeze().tolist())\n",
    "        print(i, j, f_mat.shape)\n",
    "        "
   ]
  },
  {
   "cell_type": "code",
   "execution_count": 45,
   "metadata": {},
   "outputs": [
    {
     "data": {
      "text/plain": [
       "array([[  0,   1,   2,   3,   4,   5,   6,   7,   8,   9,  10,  11,  12,\n",
       "         13,  14,  15,  16,  17,  18,  19,  20,  21,  22,  23,  24,  25,\n",
       "         26,  27],\n",
       "       [ 28,  29,  30,  31,  32,  33,  34,  35,  36,  37,  38,  39,  40,\n",
       "         41,  42,  43,  44,  45,  46,  47,  48,  49,  50,  51,  52,  53,\n",
       "         54,  55],\n",
       "       [ 56,  57,  58,  59,  60,  61,  62,  63,  64,  65,  66,  67,  68,\n",
       "         69,  70,  71,  72,  73,  74,  75,  76,  77,  78,  79,  80,  81,\n",
       "         82,  83],\n",
       "       [ 84,  85,  86,  87,  88,  89,  90,  91,  92,  93,  94,  95,  96,\n",
       "         97,  98,  99, 100, 101, 102, 103, 104, 105, 106, 107, 108, 109,\n",
       "        110, 111],\n",
       "       [112, 113, 114, 115, 116, 117, 118, 119, 120, 121, 122, 123, 124,\n",
       "        125, 126, 127, 128, 129, 130, 131, 132, 133, 134, 135, 136, 137,\n",
       "        138, 139],\n",
       "       [140, 141, 142, 143, 144, 145, 146, 147, 148, 149, 150, 151, 152,\n",
       "        153, 154, 155, 156, 157, 158, 159, 160, 161, 162, 163, 164, 165,\n",
       "        166, 167],\n",
       "       [168, 169, 170, 171, 172, 173, 174, 175, 176, 177, 178, 179, 180,\n",
       "        181, 182, 183, 184, 185, 186, 187, 188, 189, 190, 191, 192, 193,\n",
       "        194, 195],\n",
       "       [196, 197, 198, 199, 200, 201, 202, 203, 204, 205, 206, 207, 208,\n",
       "        209, 210, 211, 212, 213, 214, 215, 216, 217, 218, 219, 220, 221,\n",
       "        222, 223],\n",
       "       [224, 225, 226, 227, 228, 229, 230, 231, 232, 233, 234, 235, 236,\n",
       "        237, 238, 239, 240, 241, 242, 243, 244, 245, 246, 247, 248, 249,\n",
       "        250, 251],\n",
       "       [252, 253, 254, 255, 256, 257, 258, 259, 260, 261, 262, 263, 264,\n",
       "        265, 266, 267, 268, 269, 270, 271, 272, 273, 274, 275, 276, 277,\n",
       "        278, 279],\n",
       "       [280, 281, 282, 283, 284, 285, 286, 287, 288, 289, 290, 291, 292,\n",
       "        293, 294, 295, 296, 297, 298, 299, 300, 301, 302, 303, 304, 305,\n",
       "        306, 307],\n",
       "       [308, 309, 310, 311, 312, 313, 314, 315, 316, 317, 318, 319, 320,\n",
       "        321, 322, 323, 324, 325, 326, 327, 328, 329, 330, 331, 332, 333,\n",
       "        334, 335],\n",
       "       [336, 337, 338, 339, 340, 341, 342, 343, 344, 345, 346, 347, 348,\n",
       "        349, 350, 351, 352, 353, 354, 355, 356, 357, 358, 359, 360, 361,\n",
       "        362, 363],\n",
       "       [364, 365, 366, 367, 368, 369, 370, 371, 372, 373, 374, 375, 376,\n",
       "        377, 378, 379, 380, 381, 382, 383, 384, 385, 386, 387, 388, 389,\n",
       "        390, 391],\n",
       "       [392, 393, 394, 395, 396, 397, 398, 399, 400, 401, 402, 403, 404,\n",
       "        405, 406, 407, 408, 409, 410, 411, 412, 413, 414, 415, 416, 417,\n",
       "        418, 419],\n",
       "       [420, 421, 422, 423, 424, 425, 426, 427, 428, 429, 430, 431, 432,\n",
       "        433, 434, 435, 436, 437, 438, 439, 440, 441, 442, 443, 444, 445,\n",
       "        446, 447],\n",
       "       [448, 449, 450, 451, 452, 453, 454, 455, 456, 457, 458, 459, 460,\n",
       "        461, 462, 463, 464, 465, 466, 467, 468, 469, 470, 471, 472, 473,\n",
       "        474, 475],\n",
       "       [476, 477, 478, 479, 480, 481, 482, 483, 484, 485, 486, 487, 488,\n",
       "        489, 490, 491, 492, 493, 494, 495, 496, 497, 498, 499, 500, 501,\n",
       "        502, 503],\n",
       "       [504, 505, 506, 507, 508, 509, 510, 511, 512, 513, 514, 515, 516,\n",
       "        517, 518, 519, 520, 521, 522, 523, 524, 525, 526, 527, 528, 529,\n",
       "        530, 531],\n",
       "       [532, 533, 534, 535, 536, 537, 538, 539, 540, 541, 542, 543, 544,\n",
       "        545, 546, 547, 548, 549, 550, 551, 552, 553, 554, 555, 556, 557,\n",
       "        558, 559],\n",
       "       [560, 561, 562, 563, 564, 565, 566, 567, 568, 569, 570, 571, 572,\n",
       "        573, 574, 575, 576, 577, 578, 579, 580, 581, 582, 583, 584, 585,\n",
       "        586, 587],\n",
       "       [588, 589, 590, 591, 592, 593, 594, 595, 596, 597, 598, 599, 600,\n",
       "        601, 602, 603, 604, 605, 606, 607, 608, 609, 610, 611, 612, 613,\n",
       "        614, 615],\n",
       "       [616, 617, 618, 619, 620, 621, 622, 623, 624, 625, 626, 627, 628,\n",
       "        629, 630, 631, 632, 633, 634, 635, 636, 637, 638, 639, 640, 641,\n",
       "        642, 643],\n",
       "       [644, 645, 646, 647, 648, 649, 650, 651, 652, 653, 654, 655, 656,\n",
       "        657, 658, 659, 660, 661, 662, 663, 664, 665, 666, 667, 668, 669,\n",
       "        670, 671],\n",
       "       [672, 673, 674, 675, 676, 677, 678, 679, 680, 681, 682, 683, 684,\n",
       "        685, 686, 687, 688, 689, 690, 691, 692, 693, 694, 695, 696, 697,\n",
       "        698, 699],\n",
       "       [700, 701, 702, 703, 704, 705, 706, 707, 708, 709, 710, 711, 712,\n",
       "        713, 714, 715, 716, 717, 718, 719, 720, 721, 722, 723, 724, 725,\n",
       "        726, 727],\n",
       "       [728, 729, 730, 731, 732, 733, 734, 735, 736, 737, 738, 739, 740,\n",
       "        741, 742, 743, 744, 745, 746, 747, 748, 749, 750, 751, 752, 753,\n",
       "        754, 755],\n",
       "       [756, 757, 758, 759, 760, 761, 762, 763, 764, 765, 766, 767, 768,\n",
       "        769, 770, 771, 772, 773, 774, 775, 776, 777, 778, 779, 780, 781,\n",
       "        782, 783]])"
      ]
     },
     "execution_count": 45,
     "metadata": {},
     "output_type": "execute_result"
    }
   ],
   "source": []
  }
 ],
 "metadata": {
  "kernelspec": {
   "display_name": "Python 3",
   "language": "python",
   "name": "python3"
  },
  "language_info": {
   "codemirror_mode": {
    "name": "ipython",
    "version": 3
   },
   "file_extension": ".py",
   "mimetype": "text/x-python",
   "name": "python",
   "nbconvert_exporter": "python",
   "pygments_lexer": "ipython3",
   "version": "3.7.4"
  }
 },
 "nbformat": 4,
 "nbformat_minor": 2
}
