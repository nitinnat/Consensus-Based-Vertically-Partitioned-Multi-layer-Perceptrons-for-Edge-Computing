{
 "cells": [
  {
   "cell_type": "code",
   "execution_count": 28,
   "metadata": {},
   "outputs": [],
   "source": [
    "import pandas as pd\n",
    "import ast\n",
    "import numpy as np"
   ]
  },
  {
   "cell_type": "code",
   "execution_count": 40,
   "metadata": {},
   "outputs": [
    {
     "data": {
      "text/html": [
       "<div>\n",
       "<style scoped>\n",
       "    .dataframe tbody tr th:only-of-type {\n",
       "        vertical-align: middle;\n",
       "    }\n",
       "\n",
       "    .dataframe tbody tr th {\n",
       "        vertical-align: top;\n",
       "    }\n",
       "\n",
       "    .dataframe thead th {\n",
       "        text-align: right;\n",
       "    }\n",
       "</style>\n",
       "<table border=\"1\" class=\"dataframe\">\n",
       "  <thead>\n",
       "    <tr style=\"text-align: right;\">\n",
       "      <th></th>\n",
       "      <th>Iter</th>\n",
       "      <th>Node</th>\n",
       "      <th>TrainPredictions</th>\n",
       "      <th>TestPredictions</th>\n",
       "      <th>Layer1BeforeAct</th>\n",
       "      <th>Layer1AfterAct</th>\n",
       "      <th>Layer2BeforeAct</th>\n",
       "      <th>Layer2AfterAct</th>\n",
       "      <th>Layer1Wts</th>\n",
       "      <th>Layer2Wts</th>\n",
       "    </tr>\n",
       "  </thead>\n",
       "  <tbody>\n",
       "    <tr>\n",
       "      <td>0</td>\n",
       "      <td>0</td>\n",
       "      <td>0</td>\n",
       "      <td>[0.4152, \\n 0.4007, \\n 0.4052, \\n 0.4120, \\n 0...</td>\n",
       "      <td>[0.4114, \\n 0.4229, \\n 0.3740, \\n 0.4241, \\n 0...</td>\n",
       "      <td>[[   -0.4184,   -0.5199,    0.1423  ...   -0.0...</td>\n",
       "      <td>[-0.3581, \\n -0.3107, \\n -0.5149, \\n -0.3061, ...</td>\n",
       "      <td>[[    0.3969,    0.3729,    0.5355  ...    0.4...</td>\n",
       "      <td>[0.4114, \\n 0.4229, \\n 0.3740, \\n 0.4241, \\n 0...</td>\n",
       "      <td>[[    0.0005,   -0.0127,   -0.0181  ...    0.0...</td>\n",
       "      <td>[-0.1590, \\n -0.0366, \\n 0.2328, \\n -0.3786, \\...</td>\n",
       "    </tr>\n",
       "    <tr>\n",
       "      <td>1</td>\n",
       "      <td>1</td>\n",
       "      <td>0</td>\n",
       "      <td>[0.4322, \\n 0.4168, \\n 0.4227, \\n 0.4286, \\n 0...</td>\n",
       "      <td>[0.4298, \\n 0.4295, \\n 0.3752, \\n 0.4400, \\n 0...</td>\n",
       "      <td>[[   -0.4426,   -0.5256,    0.1949  ...   -0.0...</td>\n",
       "      <td>[-0.2828, \\n -0.2837, \\n -0.5099, \\n -0.2410, ...</td>\n",
       "      <td>[[    0.3911,    0.3716,    0.5486  ...    0.4...</td>\n",
       "      <td>[0.4298, \\n 0.4295, \\n 0.3752, \\n 0.4400, \\n 0...</td>\n",
       "      <td>[[    0.0005,   -0.0127,   -0.0180  ...    0.0...</td>\n",
       "      <td>[-0.1589, \\n -0.0365, \\n 0.2330, \\n -0.3785, \\...</td>\n",
       "    </tr>\n",
       "    <tr>\n",
       "      <td>2</td>\n",
       "      <td>2</td>\n",
       "      <td>0</td>\n",
       "      <td>[0.4479, \\n 0.4312, \\n 0.4389, \\n 0.4437, \\n 0...</td>\n",
       "      <td>[0.4465, \\n 0.4351, \\n 0.3754, \\n 0.4546, \\n 0...</td>\n",
       "      <td>[[   -0.4640,   -0.5306,    0.2452  ...   -0.0...</td>\n",
       "      <td>[-0.2149, \\n -0.2612, \\n -0.5091, \\n -0.1820, ...</td>\n",
       "      <td>[[    0.3860,    0.3704,    0.5610  ...    0.4...</td>\n",
       "      <td>[0.4465, \\n 0.4351, \\n 0.3754, \\n 0.4546, \\n 0...</td>\n",
       "      <td>[[    0.0004,   -0.0127,   -0.0180  ...    0.0...</td>\n",
       "      <td>[-0.1588, \\n -0.0364, \\n 0.2331, \\n -0.3783, \\...</td>\n",
       "    </tr>\n",
       "    <tr>\n",
       "      <td>3</td>\n",
       "      <td>3</td>\n",
       "      <td>0</td>\n",
       "      <td>[0.4623, \\n 0.4440, \\n 0.4538, \\n 0.4574, \\n 0...</td>\n",
       "      <td>[0.4616, \\n 0.4396, \\n 0.3748, \\n 0.4679, \\n 0...</td>\n",
       "      <td>[[   -0.4828,   -0.5351,    0.2929  ...   -0.0...</td>\n",
       "      <td>[-0.1539, \\n -0.2428, \\n -0.5118, \\n -0.1287, ...</td>\n",
       "      <td>[[    0.3816,    0.3693,    0.5727  ...    0.4...</td>\n",
       "      <td>[0.4616, \\n 0.4396, \\n 0.3748, \\n 0.4679, \\n 0...</td>\n",
       "      <td>[[    0.0004,   -0.0128,   -0.0179  ...    0.0...</td>\n",
       "      <td>[-0.1587, \\n -0.0363, \\n 0.2332, \\n -0.3782, \\...</td>\n",
       "    </tr>\n",
       "    <tr>\n",
       "      <td>4</td>\n",
       "      <td>4</td>\n",
       "      <td>0</td>\n",
       "      <td>[0.4755, \\n 0.4552, \\n 0.4675, \\n 0.4698, \\n 0...</td>\n",
       "      <td>[0.4752, \\n 0.4433, \\n 0.3735, \\n 0.4798, \\n 0...</td>\n",
       "      <td>[[   -0.4992,   -0.5390,    0.3384  ...    0.0...</td>\n",
       "      <td>[-0.0993, \\n -0.2279, \\n -0.5173, \\n -0.0807, ...</td>\n",
       "      <td>[[    0.3777,    0.3684,    0.5838  ...    0.5...</td>\n",
       "      <td>[0.4752, \\n 0.4433, \\n 0.3735, \\n 0.4798, \\n 0...</td>\n",
       "      <td>[[    0.0004,   -0.0128,   -0.0179  ...    0.0...</td>\n",
       "      <td>[-0.1586, \\n -0.0362, \\n 0.2334, \\n -0.3781, \\...</td>\n",
       "    </tr>\n",
       "  </tbody>\n",
       "</table>\n",
       "</div>"
      ],
      "text/plain": [
       "   Iter  Node                                   TrainPredictions  \\\n",
       "0     0     0  [0.4152, \\n 0.4007, \\n 0.4052, \\n 0.4120, \\n 0...   \n",
       "1     1     0  [0.4322, \\n 0.4168, \\n 0.4227, \\n 0.4286, \\n 0...   \n",
       "2     2     0  [0.4479, \\n 0.4312, \\n 0.4389, \\n 0.4437, \\n 0...   \n",
       "3     3     0  [0.4623, \\n 0.4440, \\n 0.4538, \\n 0.4574, \\n 0...   \n",
       "4     4     0  [0.4755, \\n 0.4552, \\n 0.4675, \\n 0.4698, \\n 0...   \n",
       "\n",
       "                                     TestPredictions  \\\n",
       "0  [0.4114, \\n 0.4229, \\n 0.3740, \\n 0.4241, \\n 0...   \n",
       "1  [0.4298, \\n 0.4295, \\n 0.3752, \\n 0.4400, \\n 0...   \n",
       "2  [0.4465, \\n 0.4351, \\n 0.3754, \\n 0.4546, \\n 0...   \n",
       "3  [0.4616, \\n 0.4396, \\n 0.3748, \\n 0.4679, \\n 0...   \n",
       "4  [0.4752, \\n 0.4433, \\n 0.3735, \\n 0.4798, \\n 0...   \n",
       "\n",
       "                                     Layer1BeforeAct  \\\n",
       "0  [[   -0.4184,   -0.5199,    0.1423  ...   -0.0...   \n",
       "1  [[   -0.4426,   -0.5256,    0.1949  ...   -0.0...   \n",
       "2  [[   -0.4640,   -0.5306,    0.2452  ...   -0.0...   \n",
       "3  [[   -0.4828,   -0.5351,    0.2929  ...   -0.0...   \n",
       "4  [[   -0.4992,   -0.5390,    0.3384  ...    0.0...   \n",
       "\n",
       "                                      Layer1AfterAct  \\\n",
       "0  [-0.3581, \\n -0.3107, \\n -0.5149, \\n -0.3061, ...   \n",
       "1  [-0.2828, \\n -0.2837, \\n -0.5099, \\n -0.2410, ...   \n",
       "2  [-0.2149, \\n -0.2612, \\n -0.5091, \\n -0.1820, ...   \n",
       "3  [-0.1539, \\n -0.2428, \\n -0.5118, \\n -0.1287, ...   \n",
       "4  [-0.0993, \\n -0.2279, \\n -0.5173, \\n -0.0807, ...   \n",
       "\n",
       "                                     Layer2BeforeAct  \\\n",
       "0  [[    0.3969,    0.3729,    0.5355  ...    0.4...   \n",
       "1  [[    0.3911,    0.3716,    0.5486  ...    0.4...   \n",
       "2  [[    0.3860,    0.3704,    0.5610  ...    0.4...   \n",
       "3  [[    0.3816,    0.3693,    0.5727  ...    0.4...   \n",
       "4  [[    0.3777,    0.3684,    0.5838  ...    0.5...   \n",
       "\n",
       "                                      Layer2AfterAct  \\\n",
       "0  [0.4114, \\n 0.4229, \\n 0.3740, \\n 0.4241, \\n 0...   \n",
       "1  [0.4298, \\n 0.4295, \\n 0.3752, \\n 0.4400, \\n 0...   \n",
       "2  [0.4465, \\n 0.4351, \\n 0.3754, \\n 0.4546, \\n 0...   \n",
       "3  [0.4616, \\n 0.4396, \\n 0.3748, \\n 0.4679, \\n 0...   \n",
       "4  [0.4752, \\n 0.4433, \\n 0.3735, \\n 0.4798, \\n 0...   \n",
       "\n",
       "                                           Layer1Wts  \\\n",
       "0  [[    0.0005,   -0.0127,   -0.0181  ...    0.0...   \n",
       "1  [[    0.0005,   -0.0127,   -0.0180  ...    0.0...   \n",
       "2  [[    0.0004,   -0.0127,   -0.0180  ...    0.0...   \n",
       "3  [[    0.0004,   -0.0128,   -0.0179  ...    0.0...   \n",
       "4  [[    0.0004,   -0.0128,   -0.0179  ...    0.0...   \n",
       "\n",
       "                                           Layer2Wts  \n",
       "0  [-0.1590, \\n -0.0366, \\n 0.2328, \\n -0.3786, \\...  \n",
       "1  [-0.1589, \\n -0.0365, \\n 0.2330, \\n -0.3785, \\...  \n",
       "2  [-0.1588, \\n -0.0364, \\n 0.2331, \\n -0.3783, \\...  \n",
       "3  [-0.1587, \\n -0.0363, \\n 0.2332, \\n -0.3782, \\...  \n",
       "4  [-0.1586, \\n -0.0362, \\n 0.2334, \\n -0.3781, \\...  "
      ]
     },
     "execution_count": 40,
     "metadata": {},
     "output_type": "execute_result"
    }
   ],
   "source": [
    "results_df = pd.read_csv(\"../data/arcene/feature_split_1/run_1_numhidden_100_lr_1.0E-4_networksize_1_randomseed_12345_lf_squared_haf_sigmoid_faf_sigmoid/vpnn_results_temp_1_predictions.csv\",\n",
    "           index_col=None, quotechar=\"'\")\n",
    "results_df.head()"
   ]
  },
  {
   "cell_type": "code",
   "execution_count": 41,
   "metadata": {},
   "outputs": [
    {
     "ename": "FileNotFoundError",
     "evalue": "[Errno 2] File b'../data/arcene/feature_split_2/run_1_numhidden_100_lr_1.0E-4_networksize_1_randomseed_12345_lf_squared_haf_sigmoid_faf_sigmoid/vpnn_results_temp_10_predictions.csv' does not exist: b'../data/arcene/feature_split_2/run_1_numhidden_100_lr_1.0E-4_networksize_1_randomseed_12345_lf_squared_haf_sigmoid_faf_sigmoid/vpnn_results_temp_10_predictions.csv'",
     "output_type": "error",
     "traceback": [
      "\u001b[1;31m---------------------------------------------------------------------------\u001b[0m",
      "\u001b[1;31mFileNotFoundError\u001b[0m                         Traceback (most recent call last)",
      "\u001b[1;32m<ipython-input-41-f7a0cfe19238>\u001b[0m in \u001b[0;36m<module>\u001b[1;34m\u001b[0m\n\u001b[0;32m      1\u001b[0m results_df = pd.read_csv(\"../data/arcene/feature_split_2/run_1_numhidden_100_lr_1.0E-4_networksize_1_randomseed_12345_lf_squared_haf_sigmoid_faf_sigmoid/vpnn_results_temp_10_predictions.csv\",\n\u001b[1;32m----> 2\u001b[1;33m            index_col=None, quotechar=\"'\")\n\u001b[0m\u001b[0;32m      3\u001b[0m \u001b[0mresults_df\u001b[0m\u001b[1;33m.\u001b[0m\u001b[0mhead\u001b[0m\u001b[1;33m(\u001b[0m\u001b[1;33m)\u001b[0m\u001b[1;33m\u001b[0m\u001b[1;33m\u001b[0m\u001b[0m\n",
      "\u001b[1;32m~\\Anaconda3\\lib\\site-packages\\pandas\\io\\parsers.py\u001b[0m in \u001b[0;36mparser_f\u001b[1;34m(filepath_or_buffer, sep, delimiter, header, names, index_col, usecols, squeeze, prefix, mangle_dupe_cols, dtype, engine, converters, true_values, false_values, skipinitialspace, skiprows, skipfooter, nrows, na_values, keep_default_na, na_filter, verbose, skip_blank_lines, parse_dates, infer_datetime_format, keep_date_col, date_parser, dayfirst, cache_dates, iterator, chunksize, compression, thousands, decimal, lineterminator, quotechar, quoting, doublequote, escapechar, comment, encoding, dialect, error_bad_lines, warn_bad_lines, delim_whitespace, low_memory, memory_map, float_precision)\u001b[0m\n\u001b[0;32m    683\u001b[0m         )\n\u001b[0;32m    684\u001b[0m \u001b[1;33m\u001b[0m\u001b[0m\n\u001b[1;32m--> 685\u001b[1;33m         \u001b[1;32mreturn\u001b[0m \u001b[0m_read\u001b[0m\u001b[1;33m(\u001b[0m\u001b[0mfilepath_or_buffer\u001b[0m\u001b[1;33m,\u001b[0m \u001b[0mkwds\u001b[0m\u001b[1;33m)\u001b[0m\u001b[1;33m\u001b[0m\u001b[1;33m\u001b[0m\u001b[0m\n\u001b[0m\u001b[0;32m    686\u001b[0m \u001b[1;33m\u001b[0m\u001b[0m\n\u001b[0;32m    687\u001b[0m     \u001b[0mparser_f\u001b[0m\u001b[1;33m.\u001b[0m\u001b[0m__name__\u001b[0m \u001b[1;33m=\u001b[0m \u001b[0mname\u001b[0m\u001b[1;33m\u001b[0m\u001b[1;33m\u001b[0m\u001b[0m\n",
      "\u001b[1;32m~\\Anaconda3\\lib\\site-packages\\pandas\\io\\parsers.py\u001b[0m in \u001b[0;36m_read\u001b[1;34m(filepath_or_buffer, kwds)\u001b[0m\n\u001b[0;32m    455\u001b[0m \u001b[1;33m\u001b[0m\u001b[0m\n\u001b[0;32m    456\u001b[0m     \u001b[1;31m# Create the parser.\u001b[0m\u001b[1;33m\u001b[0m\u001b[1;33m\u001b[0m\u001b[1;33m\u001b[0m\u001b[0m\n\u001b[1;32m--> 457\u001b[1;33m     \u001b[0mparser\u001b[0m \u001b[1;33m=\u001b[0m \u001b[0mTextFileReader\u001b[0m\u001b[1;33m(\u001b[0m\u001b[0mfp_or_buf\u001b[0m\u001b[1;33m,\u001b[0m \u001b[1;33m**\u001b[0m\u001b[0mkwds\u001b[0m\u001b[1;33m)\u001b[0m\u001b[1;33m\u001b[0m\u001b[1;33m\u001b[0m\u001b[0m\n\u001b[0m\u001b[0;32m    458\u001b[0m \u001b[1;33m\u001b[0m\u001b[0m\n\u001b[0;32m    459\u001b[0m     \u001b[1;32mif\u001b[0m \u001b[0mchunksize\u001b[0m \u001b[1;32mor\u001b[0m \u001b[0miterator\u001b[0m\u001b[1;33m:\u001b[0m\u001b[1;33m\u001b[0m\u001b[1;33m\u001b[0m\u001b[0m\n",
      "\u001b[1;32m~\\Anaconda3\\lib\\site-packages\\pandas\\io\\parsers.py\u001b[0m in \u001b[0;36m__init__\u001b[1;34m(self, f, engine, **kwds)\u001b[0m\n\u001b[0;32m    893\u001b[0m             \u001b[0mself\u001b[0m\u001b[1;33m.\u001b[0m\u001b[0moptions\u001b[0m\u001b[1;33m[\u001b[0m\u001b[1;34m\"has_index_names\"\u001b[0m\u001b[1;33m]\u001b[0m \u001b[1;33m=\u001b[0m \u001b[0mkwds\u001b[0m\u001b[1;33m[\u001b[0m\u001b[1;34m\"has_index_names\"\u001b[0m\u001b[1;33m]\u001b[0m\u001b[1;33m\u001b[0m\u001b[1;33m\u001b[0m\u001b[0m\n\u001b[0;32m    894\u001b[0m \u001b[1;33m\u001b[0m\u001b[0m\n\u001b[1;32m--> 895\u001b[1;33m         \u001b[0mself\u001b[0m\u001b[1;33m.\u001b[0m\u001b[0m_make_engine\u001b[0m\u001b[1;33m(\u001b[0m\u001b[0mself\u001b[0m\u001b[1;33m.\u001b[0m\u001b[0mengine\u001b[0m\u001b[1;33m)\u001b[0m\u001b[1;33m\u001b[0m\u001b[1;33m\u001b[0m\u001b[0m\n\u001b[0m\u001b[0;32m    896\u001b[0m \u001b[1;33m\u001b[0m\u001b[0m\n\u001b[0;32m    897\u001b[0m     \u001b[1;32mdef\u001b[0m \u001b[0mclose\u001b[0m\u001b[1;33m(\u001b[0m\u001b[0mself\u001b[0m\u001b[1;33m)\u001b[0m\u001b[1;33m:\u001b[0m\u001b[1;33m\u001b[0m\u001b[1;33m\u001b[0m\u001b[0m\n",
      "\u001b[1;32m~\\Anaconda3\\lib\\site-packages\\pandas\\io\\parsers.py\u001b[0m in \u001b[0;36m_make_engine\u001b[1;34m(self, engine)\u001b[0m\n\u001b[0;32m   1133\u001b[0m     \u001b[1;32mdef\u001b[0m \u001b[0m_make_engine\u001b[0m\u001b[1;33m(\u001b[0m\u001b[0mself\u001b[0m\u001b[1;33m,\u001b[0m \u001b[0mengine\u001b[0m\u001b[1;33m=\u001b[0m\u001b[1;34m\"c\"\u001b[0m\u001b[1;33m)\u001b[0m\u001b[1;33m:\u001b[0m\u001b[1;33m\u001b[0m\u001b[1;33m\u001b[0m\u001b[0m\n\u001b[0;32m   1134\u001b[0m         \u001b[1;32mif\u001b[0m \u001b[0mengine\u001b[0m \u001b[1;33m==\u001b[0m \u001b[1;34m\"c\"\u001b[0m\u001b[1;33m:\u001b[0m\u001b[1;33m\u001b[0m\u001b[1;33m\u001b[0m\u001b[0m\n\u001b[1;32m-> 1135\u001b[1;33m             \u001b[0mself\u001b[0m\u001b[1;33m.\u001b[0m\u001b[0m_engine\u001b[0m \u001b[1;33m=\u001b[0m \u001b[0mCParserWrapper\u001b[0m\u001b[1;33m(\u001b[0m\u001b[0mself\u001b[0m\u001b[1;33m.\u001b[0m\u001b[0mf\u001b[0m\u001b[1;33m,\u001b[0m \u001b[1;33m**\u001b[0m\u001b[0mself\u001b[0m\u001b[1;33m.\u001b[0m\u001b[0moptions\u001b[0m\u001b[1;33m)\u001b[0m\u001b[1;33m\u001b[0m\u001b[1;33m\u001b[0m\u001b[0m\n\u001b[0m\u001b[0;32m   1136\u001b[0m         \u001b[1;32melse\u001b[0m\u001b[1;33m:\u001b[0m\u001b[1;33m\u001b[0m\u001b[1;33m\u001b[0m\u001b[0m\n\u001b[0;32m   1137\u001b[0m             \u001b[1;32mif\u001b[0m \u001b[0mengine\u001b[0m \u001b[1;33m==\u001b[0m \u001b[1;34m\"python\"\u001b[0m\u001b[1;33m:\u001b[0m\u001b[1;33m\u001b[0m\u001b[1;33m\u001b[0m\u001b[0m\n",
      "\u001b[1;32m~\\Anaconda3\\lib\\site-packages\\pandas\\io\\parsers.py\u001b[0m in \u001b[0;36m__init__\u001b[1;34m(self, src, **kwds)\u001b[0m\n\u001b[0;32m   1915\u001b[0m         \u001b[0mkwds\u001b[0m\u001b[1;33m[\u001b[0m\u001b[1;34m\"usecols\"\u001b[0m\u001b[1;33m]\u001b[0m \u001b[1;33m=\u001b[0m \u001b[0mself\u001b[0m\u001b[1;33m.\u001b[0m\u001b[0musecols\u001b[0m\u001b[1;33m\u001b[0m\u001b[1;33m\u001b[0m\u001b[0m\n\u001b[0;32m   1916\u001b[0m \u001b[1;33m\u001b[0m\u001b[0m\n\u001b[1;32m-> 1917\u001b[1;33m         \u001b[0mself\u001b[0m\u001b[1;33m.\u001b[0m\u001b[0m_reader\u001b[0m \u001b[1;33m=\u001b[0m \u001b[0mparsers\u001b[0m\u001b[1;33m.\u001b[0m\u001b[0mTextReader\u001b[0m\u001b[1;33m(\u001b[0m\u001b[0msrc\u001b[0m\u001b[1;33m,\u001b[0m \u001b[1;33m**\u001b[0m\u001b[0mkwds\u001b[0m\u001b[1;33m)\u001b[0m\u001b[1;33m\u001b[0m\u001b[1;33m\u001b[0m\u001b[0m\n\u001b[0m\u001b[0;32m   1918\u001b[0m         \u001b[0mself\u001b[0m\u001b[1;33m.\u001b[0m\u001b[0munnamed_cols\u001b[0m \u001b[1;33m=\u001b[0m \u001b[0mself\u001b[0m\u001b[1;33m.\u001b[0m\u001b[0m_reader\u001b[0m\u001b[1;33m.\u001b[0m\u001b[0munnamed_cols\u001b[0m\u001b[1;33m\u001b[0m\u001b[1;33m\u001b[0m\u001b[0m\n\u001b[0;32m   1919\u001b[0m \u001b[1;33m\u001b[0m\u001b[0m\n",
      "\u001b[1;32mpandas\\_libs\\parsers.pyx\u001b[0m in \u001b[0;36mpandas._libs.parsers.TextReader.__cinit__\u001b[1;34m()\u001b[0m\n",
      "\u001b[1;32mpandas\\_libs\\parsers.pyx\u001b[0m in \u001b[0;36mpandas._libs.parsers.TextReader._setup_parser_source\u001b[1;34m()\u001b[0m\n",
      "\u001b[1;31mFileNotFoundError\u001b[0m: [Errno 2] File b'../data/arcene/feature_split_2/run_1_numhidden_100_lr_1.0E-4_networksize_1_randomseed_12345_lf_squared_haf_sigmoid_faf_sigmoid/vpnn_results_temp_10_predictions.csv' does not exist: b'../data/arcene/feature_split_2/run_1_numhidden_100_lr_1.0E-4_networksize_1_randomseed_12345_lf_squared_haf_sigmoid_faf_sigmoid/vpnn_results_temp_10_predictions.csv'"
     ]
    }
   ],
   "source": [
    "results_df = pd.read_csv(\"../data/arcene/feature_split_2/run_1_numhidden_100_lr_1.0E-4_networksize_1_randomseed_12345_lf_squared_haf_sigmoid_faf_sigmoid/vpnn_results_temp_10_predictions.csv\",\n",
    "           index_col=None, quotechar=\"'\")\n",
    "results_df.head()"
   ]
  },
  {
   "cell_type": "code",
   "execution_count": 36,
   "metadata": {},
   "outputs": [],
   "source": [
    "test_labels = pd.read_csv(\"../data/arcene/feature_split_1/arcene_test_binary.csv\", header=None).loc[:,0]\n",
    "train_labels = pd.read_csv(\"../data/arcene/feature_split_1/arcene_train_binary.csv\", header=None).loc[:,0]"
   ]
  },
  {
   "cell_type": "code",
   "execution_count": 38,
   "metadata": {},
   "outputs": [
    {
     "data": {
      "text/plain": [
       "array([0.3941, 0.3899, 0.4043, 0.4154, 0.4212, 0.4141, 0.383 , 0.4011,\n",
       "       0.3692, 0.4176, 0.387 , 0.3631, 0.4014, 0.4231, 0.4171, 0.4136,\n",
       "       0.3877, 0.4228, 0.4039, 0.3671, 0.4691, 0.4089, 0.4233, 0.4229,\n",
       "       0.4166, 0.3957, 0.3937, 0.4025, 0.4102, 0.4058, 0.3885, 0.3791,\n",
       "       0.3663, 0.43  , 0.4179, 0.4249, 0.4036, 0.4192, 0.4112, 0.4043,\n",
       "       0.3891, 0.4088, 0.3659, 0.3968, 0.4143, 0.4197, 0.4404, 0.3912,\n",
       "       0.4225, 0.374 , 0.4344, 0.3837, 0.4135, 0.4046, 0.4344, 0.3954,\n",
       "       0.4013, 0.4349, 0.4137, 0.4129, 0.393 , 0.4303, 0.3719, 0.4181,\n",
       "       0.3794, 0.4286, 0.3919, 0.3983, 0.4225, 0.4363, 0.4048, 0.4121,\n",
       "       0.4152, 0.3847, 0.4123, 0.3904, 0.4236, 0.3895, 0.3956, 0.4119,\n",
       "       0.4118, 0.3888, 0.4086, 0.4186, 0.4039, 0.3871, 0.4092, 0.4122,\n",
       "       0.3958, 0.4135, 0.4377, 0.3912, 0.3985, 0.4056, 0.4077, 0.4047,\n",
       "       0.3753, 0.431 , 0.399 , 0.4051])"
      ]
     },
     "execution_count": 38,
     "metadata": {},
     "output_type": "execute_result"
    }
   ],
   "source": [
    "def get_train_predictions(df, row):\n",
    "    train_preds = df[\"TrainPredictions\"].iloc[row]\n",
    "    train_preds = train_preds.replace(\"\\n\",\"\")\n",
    "    train_preds = train_preds.replace(\" \",\"\")\n",
    "    import ast\n",
    "    return np.array(ast.literal_eval(train_preds))\n",
    "\n",
    "def get_test_predictions(df, row):\n",
    "    test_preds = df[\"TestPredictions\"].iloc[row]\n",
    "    test_preds = test_preds.replace(\"\\n\",\"\")\n",
    "    test_preds = test_preds.replace(\" \",\"\")\n",
    "    import ast\n",
    "    return np.array(ast.literal_eval(test_preds))\n",
    "\n",
    "def get_auc(y_true, y_pred):\n",
    "    from sklearn.metrics import roc_auc_score\n",
    "    roc_auc_score(y_true=test_labels, y_score=get_test_predictions(results_df, 0))\n",
    "    \n",
    "\n",
    "get_train_predictions(results_df, 0)\n",
    "get_test_predictions(results_df, 0)"
   ]
  },
  {
   "cell_type": "code",
   "execution_count": 34,
   "metadata": {},
   "outputs": [
    {
     "data": {
      "text/plain": [
       "0.6134334415584415"
      ]
     },
     "execution_count": 34,
     "metadata": {},
     "output_type": "execute_result"
    }
   ],
   "source": []
  },
  {
   "cell_type": "code",
   "execution_count": null,
   "metadata": {},
   "outputs": [],
   "source": []
  }
 ],
 "metadata": {
  "kernelspec": {
   "display_name": "Python 3",
   "language": "python",
   "name": "python3"
  },
  "language_info": {
   "codemirror_mode": {
    "name": "ipython",
    "version": 3
   },
   "file_extension": ".py",
   "mimetype": "text/x-python",
   "name": "python",
   "nbconvert_exporter": "python",
   "pygments_lexer": "ipython3",
   "version": "3.7.4"
  }
 },
 "nbformat": 4,
 "nbformat_minor": 2
}
