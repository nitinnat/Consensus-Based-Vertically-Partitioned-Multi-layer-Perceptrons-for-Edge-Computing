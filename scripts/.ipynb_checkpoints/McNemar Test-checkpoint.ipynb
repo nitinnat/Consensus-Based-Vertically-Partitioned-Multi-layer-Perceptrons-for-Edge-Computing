{
 "cells": [
  {
   "cell_type": "code",
   "execution_count": 28,
   "metadata": {},
   "outputs": [],
   "source": [
    "import pandas as pd\n",
    "import ast\n",
    "import numpy as np"
   ]
  },
  {
   "cell_type": "code",
   "execution_count": 22,
   "metadata": {},
   "outputs": [
    {
     "data": {
      "text/html": [
       "<div>\n",
       "<style scoped>\n",
       "    .dataframe tbody tr th:only-of-type {\n",
       "        vertical-align: middle;\n",
       "    }\n",
       "\n",
       "    .dataframe tbody tr th {\n",
       "        vertical-align: top;\n",
       "    }\n",
       "\n",
       "    .dataframe thead th {\n",
       "        text-align: right;\n",
       "    }\n",
       "</style>\n",
       "<table border=\"1\" class=\"dataframe\">\n",
       "  <thead>\n",
       "    <tr style=\"text-align: right;\">\n",
       "      <th></th>\n",
       "      <th>Iter</th>\n",
       "      <th>Node</th>\n",
       "      <th>TrainPredictions</th>\n",
       "      <th>TestPredictions</th>\n",
       "    </tr>\n",
       "  </thead>\n",
       "  <tbody>\n",
       "    <tr>\n",
       "      <td>0</td>\n",
       "      <td>0</td>\n",
       "      <td>0</td>\n",
       "      <td>[0.4108, \\n 0.4041, \\n 0.4266, \\n 0.4267, \\n 0...</td>\n",
       "      <td>[0.3941, \\n 0.3899, \\n 0.4043, \\n 0.4154, \\n 0...</td>\n",
       "    </tr>\n",
       "    <tr>\n",
       "      <td>1</td>\n",
       "      <td>0</td>\n",
       "      <td>1</td>\n",
       "      <td>[0.8113, \\n 0.8054, \\n 0.8375, \\n 0.8129, \\n 0...</td>\n",
       "      <td>[0.8175, \\n 0.8063, \\n 0.7939, \\n 0.8390, \\n 0...</td>\n",
       "    </tr>\n",
       "    <tr>\n",
       "      <td>2</td>\n",
       "      <td>0</td>\n",
       "      <td>2</td>\n",
       "      <td>[1.2063, \\n 1.2155, \\n 1.2389, \\n 1.2201, \\n 1...</td>\n",
       "      <td>[1.2224, \\n 1.1830, \\n 1.1892, \\n 1.2536, \\n 1...</td>\n",
       "    </tr>\n",
       "    <tr>\n",
       "      <td>3</td>\n",
       "      <td>0</td>\n",
       "      <td>3</td>\n",
       "      <td>[1.6198, \\n 1.6606, \\n 1.6644, \\n 1.6605, \\n 1...</td>\n",
       "      <td>[1.6611, \\n 1.5793, \\n 1.6413, \\n 1.6371, \\n 1...</td>\n",
       "    </tr>\n",
       "    <tr>\n",
       "      <td>4</td>\n",
       "      <td>0</td>\n",
       "      <td>4</td>\n",
       "      <td>[2.0085, \\n 2.0431, \\n 2.0472, \\n 2.0248, \\n 2...</td>\n",
       "      <td>[2.0501, \\n 1.9963, \\n 2.0240, \\n 2.0197, \\n 2...</td>\n",
       "    </tr>\n",
       "  </tbody>\n",
       "</table>\n",
       "</div>"
      ],
      "text/plain": [
       "   Iter  Node                                   TrainPredictions  \\\n",
       "0     0     0  [0.4108, \\n 0.4041, \\n 0.4266, \\n 0.4267, \\n 0...   \n",
       "1     0     1  [0.8113, \\n 0.8054, \\n 0.8375, \\n 0.8129, \\n 0...   \n",
       "2     0     2  [1.2063, \\n 1.2155, \\n 1.2389, \\n 1.2201, \\n 1...   \n",
       "3     0     3  [1.6198, \\n 1.6606, \\n 1.6644, \\n 1.6605, \\n 1...   \n",
       "4     0     4  [2.0085, \\n 2.0431, \\n 2.0472, \\n 2.0248, \\n 2...   \n",
       "\n",
       "                                     TestPredictions  \n",
       "0  [0.3941, \\n 0.3899, \\n 0.4043, \\n 0.4154, \\n 0...  \n",
       "1  [0.8175, \\n 0.8063, \\n 0.7939, \\n 0.8390, \\n 0...  \n",
       "2  [1.2224, \\n 1.1830, \\n 1.1892, \\n 1.2536, \\n 1...  \n",
       "3  [1.6611, \\n 1.5793, \\n 1.6413, \\n 1.6371, \\n 1...  \n",
       "4  [2.0501, \\n 1.9963, \\n 2.0240, \\n 2.0197, \\n 2...  "
      ]
     },
     "execution_count": 22,
     "metadata": {},
     "output_type": "execute_result"
    }
   ],
   "source": [
    "results_df = pd.read_csv(\"../data/arcene/feature_split_2/run_1_numhidden_100_lr_1.0E-4_networksize_10_randomseed_12345_lf_squared_haf_sigmoid_faf_sigmoid/vpnn_results_temp_10_predictions.csv\",\n",
    "           index_col=None, quotechar=\"'\")\n",
    "results_df.head()"
   ]
  },
  {
   "cell_type": "code",
   "execution_count": 14,
   "metadata": {},
   "outputs": [],
   "source": [
    "test_labels = pd.read_csv(\"../data/arcene/feature_split_1/arcene_test_binary.csv\", header=None).loc[:,0]\n",
    "train_labels = pd.read_csv(\"../data/arcene/feature_split_1/arcene_train_binary.csv\", header=None).loc[:,0]"
   ]
  },
  {
   "cell_type": "code",
   "execution_count": 32,
   "metadata": {},
   "outputs": [
    {
     "data": {
      "text/plain": [
       "array([0.3941, 0.3899, 0.4043, 0.4154, 0.4212, 0.4141, 0.383 , 0.4011,\n",
       "       0.3692, 0.4176, 0.387 , 0.3631, 0.4014, 0.4231, 0.4171, 0.4136,\n",
       "       0.3877, 0.4228, 0.4039, 0.3671, 0.4691, 0.4089, 0.4233, 0.4229,\n",
       "       0.4166, 0.3957, 0.3937, 0.4025, 0.4102, 0.4058, 0.3885, 0.3791,\n",
       "       0.3663, 0.43  , 0.4179, 0.4249, 0.4036, 0.4192, 0.4112, 0.4043,\n",
       "       0.3891, 0.4088, 0.3659, 0.3968, 0.4143, 0.4197, 0.4404, 0.3912,\n",
       "       0.4225, 0.374 , 0.4344, 0.3837, 0.4135, 0.4046, 0.4344, 0.3954,\n",
       "       0.4013, 0.4349, 0.4137, 0.4129, 0.393 , 0.4303, 0.3719, 0.4181,\n",
       "       0.3794, 0.4286, 0.3919, 0.3983, 0.4225, 0.4363, 0.4048, 0.4121,\n",
       "       0.4152, 0.3847, 0.4123, 0.3904, 0.4236, 0.3895, 0.3956, 0.4119,\n",
       "       0.4118, 0.3888, 0.4086, 0.4186, 0.4039, 0.3871, 0.4092, 0.4122,\n",
       "       0.3958, 0.4135, 0.4377, 0.3912, 0.3985, 0.4056, 0.4077, 0.4047,\n",
       "       0.3753, 0.431 , 0.399 , 0.4051])"
      ]
     },
     "execution_count": 32,
     "metadata": {},
     "output_type": "execute_result"
    }
   ],
   "source": [
    "def get_train_predictions(df, row):\n",
    "    train_preds = df[\"TrainPredictions\"].iloc[row]\n",
    "    train_preds = train_preds.replace(\"\\n\",\"\")\n",
    "    train_preds = train_preds.replace(\" \",\"\")\n",
    "    import ast\n",
    "    return np.array(ast.literal_eval(train_preds))\n",
    "\n",
    "def get_test_predictions(df, row):\n",
    "    test_preds = df[\"TestPredictions\"].iloc[row]\n",
    "    test_preds = test_preds.replace(\"\\n\",\"\")\n",
    "    test_preds = test_preds.replace(\" \",\"\")\n",
    "    import ast\n",
    "    return np.array(ast.literal_eval(test_preds))\n",
    "\n",
    "def get_auc(y_true, y_pred):\n",
    "    from sklearn.metrics import roc_auc_score\n",
    "    roc_auc_score(y_true=test_labels, y_score=get_test_predictions(results_df, 0))\n",
    "    \n",
    "\n",
    "get_train_predictions(results_df, 0)\n",
    "get_test_predictions(results_df, 0)"
   ]
  },
  {
   "cell_type": "code",
   "execution_count": 34,
   "metadata": {},
   "outputs": [
    {
     "data": {
      "text/plain": [
       "0.6134334415584415"
      ]
     },
     "execution_count": 34,
     "metadata": {},
     "output_type": "execute_result"
    }
   ],
   "source": []
  },
  {
   "cell_type": "code",
   "execution_count": null,
   "metadata": {},
   "outputs": [],
   "source": []
  }
 ],
 "metadata": {
  "kernelspec": {
   "display_name": "Python 3",
   "language": "python",
   "name": "python3"
  },
  "language_info": {
   "codemirror_mode": {
    "name": "ipython",
    "version": 3
   },
   "file_extension": ".py",
   "mimetype": "text/x-python",
   "name": "python",
   "nbconvert_exporter": "python",
   "pygments_lexer": "ipython3",
   "version": "3.7.4"
  }
 },
 "nbformat": 4,
 "nbformat_minor": 2
}
